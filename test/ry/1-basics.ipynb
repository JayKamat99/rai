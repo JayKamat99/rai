{
 "cells": [
  {
   "cell_type": "markdown",
   "metadata": {},
   "source": [
    "# Tutorial 1\n",
    "\n",
    "more detailed docs: https://marctoussaint.github.io/robotics-course/"
   ]
  },
  {
   "cell_type": "code",
   "execution_count": 1,
   "metadata": {},
   "outputs": [
    {
     "name": "stdout",
     "output_type": "stream",
     "text": [
      "**ry-c++-log** /home/jay/git/optimization-course/rai/rai/ry/ry.cpp:init_LogToPythonConsole:34(0) initializing ry log callback\n",
      "\n"
     ]
    }
   ],
   "source": [
    "import sys\n",
    "sys.path.append('../../../build')\n",
    "import numpy as np\n",
    "import libry as ry"
   ]
  },
  {
   "cell_type": "markdown",
   "metadata": {},
   "source": [
    "## Setting up a basic Config\n",
    "\n",
    "The starting point is to create a `Configuration`."
   ]
  },
  {
   "cell_type": "code",
   "execution_count": 2,
   "metadata": {},
   "outputs": [],
   "source": [
    "C = ry.Config()\n",
    "C.view()"
   ]
  },
  {
   "cell_type": "markdown",
   "metadata": {},
   "source": [
    "This shows an empty configuration. Tip: Make the view window appear \"Always On Top\" (right click on the window bar)\n",
    "\n",
    "You can add things (objects, scene models, robots) to a configuration."
   ]
  },
  {
   "cell_type": "code",
   "execution_count": 3,
   "metadata": {},
   "outputs": [],
   "source": [
    "C.clear()\n",
    "C.addFile('../../../rai-robotModels/pr2/pr2.g')\n",
    "C.addFile('../../../rai-robotModels/objects/kitchen.g')"
   ]
  },
  {
   "cell_type": "markdown",
   "metadata": {},
   "source": [
    "Note that the view was updated automatically."
   ]
  },
  {
   "cell_type": "code",
   "execution_count": 19,
   "metadata": {},
   "outputs": [],
   "source": [
    "ball = C.addFrame(name=\"ball\")\n",
    "ball.setShape(ry.ST.sphere, [.1])\n",
    "ball.setPosition([.8,.8,1.5])\n",
    "ball.setColor([1,1,0])"
   ]
  },
  {
   "cell_type": "markdown",
   "metadata": {},
   "source": [
    "One can also add convex meshes (just passing the vertex array), or use sphere-swept convex meshes (ssBox, capsule, sphere, etc)"
   ]
  },
  {
   "cell_type": "code",
   "execution_count": 4,
   "metadata": {},
   "outputs": [],
   "source": [
    "hand = C.addFrame(name=\"hand\", parent=\"pr2L\")\n",
    "hand.setShape(ry.ST.ssBox, size=[.2,.2,.1,.02]),\n",
    "hand.setRelativePosition([0,0,-.1])\n",
    "hand.setColor([1,1,0])"
   ]
  },
  {
   "cell_type": "markdown",
   "metadata": {},
   "source": [
    "In this last example, the new object has another frame (pr2L) as *parent*. This means that it is permanently attached to this parent. pos and quat/rot are interpreted relative to the parent."
   ]
  },
  {
   "cell_type": "code",
   "execution_count": 6,
   "metadata": {},
   "outputs": [
    {
     "name": "stdout",
     "output_type": "stream",
     "text": [
      "position: [0.15365539 0.56413119 0.96711955]\n",
      "orientation: [ 0.33464431 -0.27540941  0.72687736 -0.53274023]\n"
     ]
    }
   ],
   "source": [
    "f = C.frame(\"hand\")\n",
    "print(\"position:\", f.getPosition())\n",
    "print(\"orientation:\", f.getQuaternion())"
   ]
  },
  {
   "cell_type": "code",
   "execution_count": null,
   "metadata": {},
   "outputs": [],
   "source": []
  },
  {
   "cell_type": "markdown",
   "metadata": {},
   "source": [
    "## Joint and Frame State\n",
    "\n",
    "A configuration is a tree of n frames. Every frame has a pose (position & quaternion), which is represented as a 7D vector (x,y,z, qw,qx,qy,qz). The frame state is the $n\\times 7$ matrix, where the i-th row is the pose of the i-th frame.\n",
    "\n",
    "A configuration also defines joints, which means that the relative transfromation from a parent to a child frame is parameterized by degrees-of-freedoms (DOFs). If the configuration has in total n DOFs, the joint state is a n-dimensional vector.\n",
    "\n",
    "Setting the joint state implies computing all relative transformations, and then forward chaining all transformations to compute all frame poses. So setting the joint state also sets the frame state.\n",
    "     \n",
    "Setting the frame state allows you to set frame poses that are inconsistent/impossible w.r.t. the joints! Setting the frame state implies computing all relative transformations from the frame poses, and then assigning the joint state to the *projection* onto the actual DOFs"
   ]
  },
  {
   "cell_type": "code",
   "execution_count": 7,
   "metadata": {},
   "outputs": [
    {
     "name": "stdout",
     "output_type": "stream",
     "text": [
      "joint names:  ['worldTranslationRotation:0', 'worldTranslationRotation:1', 'worldTranslationRotation:2', 'torso_lift_joint', 'head_pan_joint', 'laser_tilt_mount_joint', 'r_shoulder_pan_joint', 'l_shoulder_pan_joint', 'head_tilt_joint', 'r_shoulder_lift_joint', 'l_shoulder_lift_joint', 'r_upper_arm_roll_joint', 'l_upper_arm_roll_joint', 'r_elbow_flex_joint', 'l_elbow_flex_joint', 'r_forearm_roll_joint', 'l_forearm_roll_joint', 'r_wrist_flex_joint', 'l_wrist_flex_joint', 'r_wrist_roll_joint', 'l_wrist_roll_joint', 'r_gripper_l_finger_jointr_gripper_r_finger_jointr_gripper_l_finger_tip_jointr_gripper_r_finger_tip_joint', 'l_gripper_l_finger_jointl_gripper_r_finger_jointl_gripper_l_finger_tip_jointl_gripper_r_finger_tip_joint', 'r_gripper_joint', 'l_gripper_joint']\n",
      "joint state:  [ 0.          0.          1.57079633  0.1         0.          0.\n",
      " -1.          1.          0.4         0.5         0.5        -1.\n",
      "  1.         -2.         -2.         -1.5         1.5        -0.5\n",
      " -0.5        -0.5         0.5         0.1         0.1         0.01\n",
      "  0.01      ]\n"
     ]
    }
   ],
   "source": [
    "q = C.getJointState()\n",
    "print('joint names: ', C.getJointNames() )\n",
    "print('joint state: ', q)"
   ]
  },
  {
   "cell_type": "markdown",
   "metadata": {},
   "source": [
    "Let's move the configuration by adding to the joint configuration"
   ]
  },
  {
   "cell_type": "code",
   "execution_count": 9,
   "metadata": {},
   "outputs": [],
   "source": [
    "q[2] = q[2] + 1.\n",
    "C.setJointState(q)"
   ]
  },
  {
   "cell_type": "markdown",
   "metadata": {},
   "source": [
    "The *frame state* is a $n\\times 7$ matrix, which contains for all of $n$ frames the 7D pose. A pose is stored as [p_x, p_y, p_z, q_w, q_x, q_y, q_z], with position p and quaternion q."
   ]
  },
  {
   "cell_type": "code",
   "execution_count": 31,
   "metadata": {},
   "outputs": [
    {
     "name": "stdout",
     "output_type": "stream",
     "text": [
      "frame state:  [[ 0.00000000e+00  0.00000000e+00  0.00000000e+00 ...  0.00000000e+00\n",
      "   0.00000000e+00  0.00000000e+00]\n",
      " [ 0.00000000e+00  0.00000000e+00  0.00000000e+00 ...  0.00000000e+00\n",
      "   0.00000000e+00  7.07106781e-01]\n",
      " [ 1.11022302e-17 -5.00000000e-02  8.90675000e-01 ...  5.00000000e-01\n",
      "  -5.00000000e-01  5.00000000e-01]\n",
      " ...\n",
      " [ 5.00000000e-01  2.00000000e+00  4.00000000e-01 ...  0.00000000e+00\n",
      "   0.00000000e+00  0.00000000e+00]\n",
      " [ 8.00000000e-01  8.00000000e-01  1.50000000e+00 ...  0.00000000e+00\n",
      "   0.00000000e+00  0.00000000e+00]\n",
      " [-1.53655388e-01  5.64131186e-01  9.67119554e-01 ... -2.75409412e-01\n",
      "  -7.26877359e-01  5.32740227e-01]]\n"
     ]
    }
   ],
   "source": [
    "X0 = C.getFrameState()\n",
    "print('frame state: ', X0)"
   ]
  },
  {
   "cell_type": "markdown",
   "metadata": {},
   "source": [
    "Let's do a questionable thing: adding .1 to all numbers in the frame matrix!"
   ]
  },
  {
   "cell_type": "code",
   "execution_count": 36,
   "metadata": {},
   "outputs": [],
   "source": [
    "X = X0 + .1\n",
    "C.setFrameState(X)"
   ]
  },
  {
   "cell_type": "markdown",
   "metadata": {},
   "source": [
    "The rows of X have non-normalized quaternions! These are normalized when setting the frame state.\n",
    "\n",
    "Also, the frame poses are now *inconsistent* to the joint constraints! We can read out the projected joint state, set the joint state, and get a consistent state again:"
   ]
  },
  {
   "cell_type": "code",
   "execution_count": 37,
   "metadata": {},
   "outputs": [],
   "source": [
    "C.setJointState( C.getJointState() )"
   ]
  },
  {
   "cell_type": "markdown",
   "metadata": {},
   "source": [
    "Now all *joint* transformations are consistent: just hingeX transformations or alike. However, all the other relative transformations of links and shapes are still messed up from setting their frame pose. Let's bring the configuration back into the state before the harsh *setFrame*"
   ]
  },
  {
   "cell_type": "code",
   "execution_count": 38,
   "metadata": {},
   "outputs": [],
   "source": [
    "C.setFrameState(X0)"
   ]
  },
  {
   "cell_type": "markdown",
   "metadata": {},
   "source": [
    " ## Selecting joints\n",
    "\n",
    "Often one would like to choose which joints are actually active, that is, which joints are referred to in q. This allows one to sub-select joints and work only with projections of the full configuration state. This changes the joint state dimensionality, including ordering of entries in q.\n",
    "\n",
    "The frame state is not affected by such a selection of active joints."
   ]
  },
  {
   "cell_type": "code",
   "execution_count": 39,
   "metadata": {},
   "outputs": [
    {
     "name": "stdout",
     "output_type": "stream",
     "text": [
      "joint state:  [ 0.          0.          1.57079633  1.00001     0.50001     1.00001\n",
      " -2.00001     1.50001    -0.50001     0.50001   ]\n",
      "joint names:  ['worldTranslationRotation:0', 'worldTranslationRotation:1', 'worldTranslationRotation:2', 'l_shoulder_pan_joint', 'l_shoulder_lift_joint', 'l_upper_arm_roll_joint', 'l_elbow_flex_joint', 'l_forearm_roll_joint', 'l_wrist_flex_joint', 'l_wrist_roll_joint']\n"
     ]
    }
   ],
   "source": [
    "C.selectJointsByTag([\"armL\",\"base\"])\n",
    "q = C.getJointState()\n",
    "print('joint state: ', q)\n",
    "print('joint names: ', C.getJointNames() )"
   ]
  },
  {
   "cell_type": "markdown",
   "metadata": {},
   "source": [
    "## Features & Jacobians\n",
    "\n",
    "A core part of rai defines features over configurations. A feature is a differentiable mapping from a configuration (or set of configurations) to a vector. Starndard features are \"position-of-endeffector-X\" or \"distance/penetration-between-convex-shapes-A-and-B\", etc. But there are many, many more features defined in rai, like error of Newton-Euler-equations for an object, total energy of the system, etc. Defining differentiable features is the core of many functionalities in the rai code.\n",
    "\n",
    "Let's define a basic feature over C: the 3D (world coordinate) position of pr2L (left hand)"
   ]
  },
  {
   "cell_type": "code",
   "execution_count": 14,
   "metadata": {},
   "outputs": [],
   "source": [
    "F = C.feature(ry.FS.position, [\"pr2L\"])"
   ]
  },
  {
   "cell_type": "markdown",
   "metadata": {},
   "source": [
    "We can now evaluate the feature, and also get the Jacobian:"
   ]
  },
  {
   "cell_type": "code",
   "execution_count": 15,
   "metadata": {},
   "outputs": [
    {
     "name": "stdout",
     "output_type": "stream",
     "text": [
      "F_Position/0-pr2L\n",
      "hand position: [-0.2316488   0.50511666  0.94627935]\n",
      "Jacobian: [[ 1.00000000e+00  0.00000000e+00 -5.05116662e-01  2.22044605e-16\n",
      "   0.00000000e+00  0.00000000e+00  0.00000000e+00 -5.55116662e-01\n",
      "   0.00000000e+00  0.00000000e+00 -4.67894440e-02  0.00000000e+00\n",
      "   2.66598983e-01  0.00000000e+00 -2.88521368e-01  0.00000000e+00\n",
      "  -5.44613844e-02  0.00000000e+00 -7.28240781e-02  0.00000000e+00\n",
      "  -1.38777878e-17  0.00000000e+00  0.00000000e+00  0.00000000e+00\n",
      "   0.00000000e+00]\n",
      " [ 0.00000000e+00  1.00000000e+00 -2.31648796e-01  0.00000000e+00\n",
      "   0.00000000e+00  0.00000000e+00  0.00000000e+00 -4.36487962e-02\n",
      "   0.00000000e+00  0.00000000e+00  3.00431565e-02  0.00000000e+00\n",
      "   2.16456798e-02  0.00000000e+00  4.04226887e-01  0.00000000e+00\n",
      "   8.25709454e-02  0.00000000e+00  2.51342878e-02  0.00000000e+00\n",
      "   0.00000000e+00  0.00000000e+00  0.00000000e+00  0.00000000e+00\n",
      "   0.00000000e+00]\n",
      " [ 0.00000000e+00  0.00000000e+00  0.00000000e+00  1.00000000e+00\n",
      "   0.00000000e+00  0.00000000e+00  0.00000000e+00  1.23260660e-16\n",
      "   0.00000000e+00  0.00000000e+00 -2.36660008e-01  0.00000000e+00\n",
      "  -3.89235088e-01  0.00000000e+00 -1.17134468e-01  0.00000000e+00\n",
      "  -3.00023881e-02  0.00000000e+00  2.01366038e-01  0.00000000e+00\n",
      "   4.16333634e-17  0.00000000e+00  0.00000000e+00  0.00000000e+00\n",
      "   0.00000000e+00]]\n",
      "Jacobian shape: (3, 25)\n"
     ]
    }
   ],
   "source": [
    "print(F.description(C))\n",
    "\n",
    "[y,J] = F.eval(C)\n",
    "print('hand position:', y)\n",
    "print('Jacobian:', J)\n",
    "print('Jacobian shape:', J.shape)"
   ]
  },
  {
   "cell_type": "markdown",
   "metadata": {},
   "source": [
    "We can linearly transform features by setting 'scale' and 'target':"
   ]
  },
  {
   "cell_type": "code",
   "execution_count": 16,
   "metadata": {},
   "outputs": [
    {
     "data": {
      "text/plain": [
       "(array([-2.31648796,  5.05116662, -0.53720654]),\n",
       " array([[ 1.00000000e+01,  0.00000000e+00, -5.05116662e+00,\n",
       "          2.22044605e-15,  0.00000000e+00,  0.00000000e+00,\n",
       "          0.00000000e+00, -5.55116662e+00,  0.00000000e+00,\n",
       "          0.00000000e+00, -4.67894440e-01,  0.00000000e+00,\n",
       "          2.66598983e+00,  0.00000000e+00, -2.88521368e+00,\n",
       "          0.00000000e+00, -5.44613844e-01,  0.00000000e+00,\n",
       "         -7.28240781e-01,  0.00000000e+00, -1.38777878e-16,\n",
       "          0.00000000e+00,  0.00000000e+00,  0.00000000e+00,\n",
       "          0.00000000e+00],\n",
       "        [ 0.00000000e+00,  1.00000000e+01, -2.31648796e+00,\n",
       "          0.00000000e+00,  0.00000000e+00,  0.00000000e+00,\n",
       "          0.00000000e+00, -4.36487962e-01,  0.00000000e+00,\n",
       "          0.00000000e+00,  3.00431565e-01,  0.00000000e+00,\n",
       "          2.16456798e-01,  0.00000000e+00,  4.04226887e+00,\n",
       "          0.00000000e+00,  8.25709454e-01,  0.00000000e+00,\n",
       "          2.51342878e-01,  0.00000000e+00,  0.00000000e+00,\n",
       "          0.00000000e+00,  0.00000000e+00,  0.00000000e+00,\n",
       "          0.00000000e+00],\n",
       "        [ 0.00000000e+00,  0.00000000e+00,  0.00000000e+00,\n",
       "          1.00000000e+01,  0.00000000e+00,  0.00000000e+00,\n",
       "          0.00000000e+00,  1.23260660e-15,  0.00000000e+00,\n",
       "          0.00000000e+00, -2.36660008e+00,  0.00000000e+00,\n",
       "         -3.89235088e+00,  0.00000000e+00, -1.17134468e+00,\n",
       "          0.00000000e+00, -3.00023881e-01,  0.00000000e+00,\n",
       "          2.01366038e+00,  0.00000000e+00,  4.16333634e-16,\n",
       "          0.00000000e+00,  0.00000000e+00,  0.00000000e+00,\n",
       "          0.00000000e+00]]))"
      ]
     },
     "execution_count": 16,
     "metadata": {},
     "output_type": "execute_result"
    }
   ],
   "source": [
    "F.setScale([10.]) #note: needs to be an array!\n",
    "F.setTarget([0., 0., 1.])\n",
    "F.eval(C)"
   ]
  },
  {
   "cell_type": "markdown",
   "metadata": {},
   "source": [
    "Setting scale and target actually transforms the feature to become\n",
    "$$\n",
    "  \\phi(x) \\gets \\texttt{scale} \\cdot (\\phi(x) - \\texttt{target})\n",
    "$$\n",
    "The $\\cdot$ is flexibly interpreted: scale can be an arbitrary matrix, or a vector of same size as $\\phi$ (element-wise re-scaling), or a single scalar (as above). E.g., if we only care about the height of the robot hand, we can do this:"
   ]
  },
  {
   "cell_type": "code",
   "execution_count": 17,
   "metadata": {},
   "outputs": [
    {
     "data": {
      "text/plain": [
       "(array([-0.53720654]),\n",
       " array([[ 0.00000000e+00,  0.00000000e+00,  0.00000000e+00,\n",
       "          1.00000000e+01,  0.00000000e+00,  0.00000000e+00,\n",
       "          0.00000000e+00,  1.23260660e-15,  0.00000000e+00,\n",
       "          0.00000000e+00, -2.36660008e+00,  0.00000000e+00,\n",
       "         -3.89235088e+00,  0.00000000e+00, -1.17134468e+00,\n",
       "          0.00000000e+00, -3.00023881e-01,  0.00000000e+00,\n",
       "          2.01366038e+00,  0.00000000e+00,  4.16333634e-16,\n",
       "          0.00000000e+00,  0.00000000e+00,  0.00000000e+00,\n",
       "          0.00000000e+00]]))"
      ]
     },
     "execution_count": 17,
     "metadata": {},
     "output_type": "execute_result"
    }
   ],
   "source": [
    "F.setScale([[0,0,10]])      #pick z-coordinate only, and scale by 10\n",
    "F.setTarget([0., 0., 1.])   #note that the target needs to be in UNSCALED space!\n",
    "F.eval(C)"
   ]
  },
  {
   "cell_type": "markdown",
   "metadata": {},
   "source": [
    "A negative-distance (penetration) feature example"
   ]
  },
  {
   "cell_type": "code",
   "execution_count": 20,
   "metadata": {},
   "outputs": [
    {
     "name": "stdout",
     "output_type": "stream",
     "text": [
      "F_PairCollision/0-hand-ball\n"
     ]
    }
   ],
   "source": [
    "F2 = C.feature(ry.FS.distance, [\"hand\", \"ball\"]) #distance actually means neg-distance\n",
    "print(F2.description(C))"
   ]
  },
  {
   "cell_type": "code",
   "execution_count": 21,
   "metadata": {},
   "outputs": [
    {
     "data": {
      "text/plain": [
       "(array([-0.63534625]),\n",
       " array([[ 0.75395208,  0.28526308, -0.3749512 ,  0.59176114, -0.        ,\n",
       "         -0.        , -0.46627826, -0.        , -0.        , -0.03685205,\n",
       "         -0.        ,  0.50471875, -0.        ,  0.31674125, -0.        ,\n",
       "         -0.04690754, -0.        ,  0.27225257, -0.        ,  0.02244167,\n",
       "         -0.        , -0.        , -0.        , -0.        , -0.        ]]))"
      ]
     },
     "execution_count": 21,
     "metadata": {},
     "output_type": "execute_result"
    }
   ],
   "source": [
    "F2.eval(C)"
   ]
  },
  {
   "cell_type": "markdown",
   "metadata": {},
   "source": [
    "When a feature is of higher *order*, by default it computes the difference, acceleration, etc, w.r.t. multiple configurations. We need to create a compound configurations (\"tuple\") of several configurations to evaluate this:"
   ]
  },
  {
   "cell_type": "code",
   "execution_count": 22,
   "metadata": {},
   "outputs": [],
   "source": [
    "C2 = ry.Config()\n",
    "C2.addConfigurationCopy(C)  #this replicates the whole structure\n",
    "C2.addConfigurationCopy(C)  #this replicates the whole structure\n",
    "V2 = C2.view()"
   ]
  },
  {
   "cell_type": "code",
   "execution_count": 23,
   "metadata": {},
   "outputs": [
    {
     "data": {
      "text/plain": [
       "array([0., 0., 0.])"
      ]
     },
     "execution_count": 23,
     "metadata": {},
     "output_type": "execute_result"
    }
   ],
   "source": [
    "F.setScale([])  #reset to default (no scaling)\n",
    "F.setTarget([]) #reset to default (zero target)\n",
    "F.setOrder(1)\n",
    "F.eval(C2)[0]"
   ]
  },
  {
   "cell_type": "markdown",
   "metadata": {},
   "source": [
    "This should be zero, as the difference between the first and second copy is zero. To see a difference, let's move the 2nd configuration:"
   ]
  },
  {
   "cell_type": "code",
   "execution_count": 24,
   "metadata": {},
   "outputs": [
    {
     "name": "stdout",
     "output_type": "stream",
     "text": [
      "hand difference (y(C2) - y(K)) = [ 0.01638086 -0.14782551 -0.05227247]\n"
     ]
    }
   ],
   "source": [
    "q = C.getJointState()\n",
    "q = q - .1\n",
    "C2.setJointStateSlice(q,1)\n",
    "y = F.eval(C2)[0]\n",
    "print('hand difference (y(C2) - y(K)) =', y)"
   ]
  },
  {
   "cell_type": "markdown",
   "metadata": {},
   "source": [
    "An acceleration example:"
   ]
  },
  {
   "cell_type": "code",
   "execution_count": 25,
   "metadata": {},
   "outputs": [],
   "source": [
    "C2.addConfigurationCopy(C);"
   ]
  },
  {
   "cell_type": "code",
   "execution_count": 26,
   "metadata": {},
   "outputs": [],
   "source": [
    "C2.setJointStateSlice(q + .3, 2);"
   ]
  },
  {
   "cell_type": "code",
   "execution_count": 27,
   "metadata": {},
   "outputs": [
    {
     "name": "stdout",
     "output_type": "stream",
     "text": [
      "hand acceleration: [-0.08686053  0.46826691  0.1609393 ]\n",
      "shape of Jacobian: (3, 75)\n",
      "F_Position/2-pr2L\n"
     ]
    }
   ],
   "source": [
    "F.setOrder(2)\n",
    "(y,J) = F.eval(C2)\n",
    "print('hand acceleration:', y)\n",
    "print('shape of Jacobian:', J.shape)\n",
    "print(F.description(C2))"
   ]
  },
  {
   "cell_type": "markdown",
   "metadata": {},
   "source": [
    "Note that the Jacobian is now w.r.t. all three configurations! It is of size 3x(3xdim(q)). Let's retrieve the Jacobian w.r.t. C3 only:"
   ]
  },
  {
   "cell_type": "code",
   "execution_count": 28,
   "metadata": {},
   "outputs": [
    {
     "name": "stdout",
     "output_type": "stream",
     "text": [
      "shape of Jacobian: (3, 3, 25)\n"
     ]
    },
    {
     "data": {
      "text/plain": [
       "array([[-2.00000000e+00,  0.00000000e+00,  9.14582306e-01,\n",
       "        -1.11022302e-16,  0.00000000e+00,  0.00000000e+00,\n",
       "         0.00000000e+00,  9.76545358e-01,  0.00000000e+00,\n",
       "         0.00000000e+00,  1.48251505e-01,  0.00000000e+00,\n",
       "        -4.58640670e-01,  0.00000000e+00,  3.54588252e-01,\n",
       "         0.00000000e+00,  6.47946543e-02,  0.00000000e+00,\n",
       "         9.23445085e-02,  0.00000000e+00, -3.46944695e-18,\n",
       "         0.00000000e+00,  0.00000000e+00,  0.00000000e+00,\n",
       "         0.00000000e+00],\n",
       "       [ 0.00000000e+00, -2.00000000e+00,  2.30535870e-01,\n",
       "         0.00000000e+00,  0.00000000e+00,  0.00000000e+00,\n",
       "         0.00000000e+00, -1.53569038e-01,  0.00000000e+00,\n",
       "         0.00000000e+00, -1.43984026e-01,  0.00000000e+00,\n",
       "        -2.08757539e-02,  0.00000000e+00, -9.33495798e-01,\n",
       "         0.00000000e+00, -2.31056474e-01,  0.00000000e+00,\n",
       "        -4.86315948e-02,  0.00000000e+00,  5.55111512e-17,\n",
       "         0.00000000e+00,  0.00000000e+00,  0.00000000e+00,\n",
       "         0.00000000e+00],\n",
       "       [ 0.00000000e+00,  0.00000000e+00,  0.00000000e+00,\n",
       "        -2.00000000e+00,  0.00000000e+00,  0.00000000e+00,\n",
       "         0.00000000e+00, -5.42091571e-17,  0.00000000e+00,\n",
       "         0.00000000e+00,  3.70202018e-01,  0.00000000e+00,\n",
       "         7.43778250e-01,  0.00000000e+00,  1.84171354e-02,\n",
       "         0.00000000e+00,  4.11590439e-02,  0.00000000e+00,\n",
       "        -4.18378895e-01,  0.00000000e+00, -6.93889390e-17,\n",
       "         0.00000000e+00,  0.00000000e+00,  0.00000000e+00,\n",
       "         0.00000000e+00]])"
      ]
     },
     "execution_count": 28,
     "metadata": {},
     "output_type": "execute_result"
    }
   ],
   "source": [
    "J = J.reshape((3,3,q.size))\n",
    "print('shape of Jacobian:', J.shape)\n",
    "J[:,1,:]"
   ]
  },
  {
   "cell_type": "code",
   "execution_count": 29,
   "metadata": {},
   "outputs": [],
   "source": [
    "C=0"
   ]
  },
  {
   "cell_type": "markdown",
   "metadata": {},
   "source": [
    "## Editing Configurations"
   ]
  },
  {
   "cell_type": "code",
   "execution_count": 30,
   "metadata": {},
   "outputs": [],
   "source": [
    "C = ry.Config()\n",
    "C.view()"
   ]
  },
  {
   "cell_type": "code",
   "execution_count": 31,
   "metadata": {},
   "outputs": [
    {
     "data": {
      "text/plain": [
       "<subprocess.Popen at 0x7f0038b79128>"
      ]
     },
     "execution_count": 31,
     "metadata": {},
     "output_type": "execute_result"
    }
   ],
   "source": [
    "import subprocess\n",
    "subprocess.Popen(['gedit', 'tmp.g'])"
   ]
  },
  {
   "cell_type": "code",
   "execution_count": null,
   "metadata": {},
   "outputs": [
    {
     "name": "stdout",
     "output_type": "stream",
     "text": [
      "**ry-c++-log** /home/jay/git/optimization-course/rai/rai/Core/util.cpp:getIs:1081(-1) could not open file 'tmp.g' for input from '/home/jay/git/optimization-course/rai/test/ry./.'\n",
      "\n",
      "**ry-c++-log** /home/jay/git/optimization-course/rai/rai/Core/util.cpp:getIs:1081(-1) could not open file 'tmp.g' for input from '/home/jay/git/optimization-course/rai/test/ry./.'\n",
      "\n",
      "**ry-c++-log** /home/jay/git/optimization-course/rai/rai/Core/util.cpp:getIs:1081(-1) could not open file 'tmp.g' for input from '/home/jay/git/optimization-course/rai/test/ry./.'\n",
      "\n",
      "**ry-c++-log** /home/jay/git/optimization-course/rai/rai/Core/util.cpp:getIs:1081(-1) could not open file 'tmp.g' for input from '/home/jay/git/optimization-course/rai/test/ry./.'\n",
      "\n",
      "**ry-c++-log** /home/jay/git/optimization-course/rai/rai/Core/util.cpp:getIs:1081(-1) could not open file 'tmp.g' for input from '/home/jay/git/optimization-course/rai/test/ry./.'\n",
      "\n",
      "**ry-c++-log** /home/jay/git/optimization-course/rai/rai/Core/util.cpp:getIs:1081(-1) could not open file 'tmp.g' for input from '/home/jay/git/optimization-course/rai/test/ry./.'\n",
      "\n",
      "**ry-c++-log** /home/jay/git/optimization-course/rai/rai/Core/util.cpp:getIs:1081(-1) could not open file 'tmp.g' for input from '/home/jay/git/optimization-course/rai/test/ry./.'\n",
      "\n",
      "**ry-c++-log** /home/jay/git/optimization-course/rai/rai/Core/util.cpp:getIs:1081(-1) could not open file 'tmp.g' for input from '/home/jay/git/optimization-course/rai/test/ry./.'\n",
      "\n",
      "**ry-c++-log** /home/jay/git/optimization-course/rai/rai/Core/util.cpp:getIs:1081(-1) could not open file 'tmp.g' for input from '/home/jay/git/optimization-course/rai/test/ry./.'\n",
      "\n",
      "**ry-c++-log** /home/jay/git/optimization-course/rai/rai/Core/util.cpp:getIs:1081(-1) could not open file 'tmp.g' for input from '/home/jay/git/optimization-course/rai/test/ry./.'\n",
      "\n",
      "**ry-c++-log** /home/jay/git/optimization-course/rai/rai/Core/util.cpp:getIs:1081(-1) could not open file 'tmp.g' for input from '/home/jay/git/optimization-course/rai/test/ry./.'\n",
      "\n",
      "**ry-c++-log** /home/jay/git/optimization-course/rai/rai/Core/util.cpp:getIs:1081(-1) could not open file 'tmp.g' for input from '/home/jay/git/optimization-course/rai/test/ry./.'\n",
      "\n",
      "**ry-c++-log** /home/jay/git/optimization-course/rai/rai/Core/util.cpp:getIs:1081(-1) could not open file 'tmp.g' for input from '/home/jay/git/optimization-course/rai/test/ry./.'\n",
      "\n",
      "**ry-c++-log** /home/jay/git/optimization-course/rai/rai/Core/util.cpp:getIs:1081(-1) could not open file 'tmp.g' for input from '/home/jay/git/optimization-course/rai/test/ry./.'\n",
      "\n",
      "**ry-c++-log** /home/jay/git/optimization-course/rai/rai/Core/util.cpp:getIs:1081(-1) could not open file 'tmp.g' for input from '/home/jay/git/optimization-course/rai/test/ry./.'\n",
      "\n",
      "**ry-c++-log** /home/jay/git/optimization-course/rai/rai/Core/util.cpp:getIs:1081(-1) could not open file 'tmp.g' for input from '/home/jay/git/optimization-course/rai/test/ry./.'\n",
      "\n",
      "**ry-c++-log** /home/jay/git/optimization-course/rai/rai/Core/util.cpp:getIs:1081(-1) could not open file 'tmp.g' for input from '/home/jay/git/optimization-course/rai/test/ry./.'\n",
      "\n",
      "**ry-c++-log** /home/jay/git/optimization-course/rai/rai/Core/util.cpp:getIs:1081(-1) could not open file 'tmp.g' for input from '/home/jay/git/optimization-course/rai/test/ry./.'\n",
      "\n",
      "**ry-c++-log** /home/jay/git/optimization-course/rai/rai/Core/util.cpp:getIs:1081(-1) could not open file 'tmp.g' for input from '/home/jay/git/optimization-course/rai/test/ry./.'\n",
      "\n",
      "**ry-c++-log** /home/jay/git/optimization-course/rai/rai/Core/util.cpp:getIs:1081(-1) could not open file 'tmp.g' for input from '/home/jay/git/optimization-course/rai/test/ry./.'\n",
      "\n",
      "**ry-c++-log** /home/jay/git/optimization-course/rai/rai/Core/util.cpp:getIs:1081(-1) could not open file 'tmp.g' for input from '/home/jay/git/optimization-course/rai/test/ry./.'\n",
      "\n",
      "**ry-c++-log** /home/jay/git/optimization-course/rai/rai/Core/util.cpp:getIs:1081(-1) could not open file 'tmp.g' for input from '/home/jay/git/optimization-course/rai/test/ry./.'\n",
      "\n",
      "**ry-c++-log** /home/jay/git/optimization-course/rai/rai/Core/util.cpp:getIs:1081(-1) could not open file 'tmp.g' for input from '/home/jay/git/optimization-course/rai/test/ry./.'\n",
      "\n",
      "**ry-c++-log** /home/jay/git/optimization-course/rai/rai/Core/util.cpp:getIs:1081(-1) could not open file 'tmp.g' for input from '/home/jay/git/optimization-course/rai/test/ry./.'\n",
      "\n",
      "**ry-c++-log** /home/jay/git/optimization-course/rai/rai/Core/util.cpp:getIs:1081(-1) could not open file 'tmp.g' for input from '/home/jay/git/optimization-course/rai/test/ry./.'\n",
      "\n",
      "**ry-c++-log** /home/jay/git/optimization-course/rai/rai/Core/util.cpp:getIs:1081(-1) could not open file 'tmp.g' for input from '/home/jay/git/optimization-course/rai/test/ry./.'\n",
      "\n",
      "**ry-c++-log** /home/jay/git/optimization-course/rai/rai/Core/util.cpp:getIs:1081(-1) could not open file 'tmp.g' for input from '/home/jay/git/optimization-course/rai/test/ry./.'\n",
      "\n",
      "**ry-c++-log** /home/jay/git/optimization-course/rai/rai/Core/util.cpp:getIs:1081(-1) could not open file 'tmp.g' for input from '/home/jay/git/optimization-course/rai/test/ry./.'\n",
      "\n",
      "**ry-c++-log** /home/jay/git/optimization-course/rai/rai/Core/util.cpp:getIs:1081(-1) could not open file 'tmp.g' for input from '/home/jay/git/optimization-course/rai/test/ry./.'\n",
      "\n",
      "**ry-c++-log** /home/jay/git/optimization-course/rai/rai/Core/util.cpp:getIs:1081(-1) could not open file 'tmp.g' for input from '/home/jay/git/optimization-course/rai/test/ry./.'\n",
      "\n",
      "**ry-c++-log** /home/jay/git/optimization-course/rai/rai/Core/util.cpp:getIs:1081(-1) could not open file 'tmp.g' for input from '/home/jay/git/optimization-course/rai/test/ry./.'\n",
      "\n",
      "**ry-c++-log** /home/jay/git/optimization-course/rai/rai/Core/util.cpp:getIs:1081(-1) could not open file 'tmp.g' for input from '/home/jay/git/optimization-course/rai/test/ry./.'\n",
      "\n",
      "**ry-c++-log** /home/jay/git/optimization-course/rai/rai/Core/util.cpp:getIs:1081(-1) could not open file 'tmp.g' for input from '/home/jay/git/optimization-course/rai/test/ry./.'\n",
      "\n",
      "**ry-c++-log** /home/jay/git/optimization-course/rai/rai/Core/util.cpp:getIs:1081(-1) could not open file 'tmp.g' for input from '/home/jay/git/optimization-course/rai/test/ry./.'\n",
      "\n",
      "**ry-c++-log** /home/jay/git/optimization-course/rai/rai/Core/util.cpp:getIs:1081(-1) could not open file 'tmp.g' for input from '/home/jay/git/optimization-course/rai/test/ry./.'\n",
      "\n",
      "**ry-c++-log** /home/jay/git/optimization-course/rai/rai/Core/util.cpp:getIs:1081(-1) could not open file 'tmp.g' for input from '/home/jay/git/optimization-course/rai/test/ry./.'\n",
      "\n",
      "**ry-c++-log** /home/jay/git/optimization-course/rai/rai/Core/util.cpp:getIs:1081(-1) could not open file 'tmp.g' for input from '/home/jay/git/optimization-course/rai/test/ry./.'\n",
      "\n",
      "**ry-c++-log** /home/jay/git/optimization-course/rai/rai/Core/util.cpp:getIs:1081(-1) could not open file 'tmp.g' for input from '/home/jay/git/optimization-course/rai/test/ry./.'\n",
      "\n",
      "**ry-c++-log** /home/jay/git/optimization-course/rai/rai/Core/util.cpp:getIs:1081(-1) could not open file 'tmp.g' for input from '/home/jay/git/optimization-course/rai/test/ry./.'\n",
      "\n",
      "**ry-c++-log** /home/jay/git/optimization-course/rai/rai/Core/util.cpp:getIs:1081(-1) could not open file 'tmp.g' for input from '/home/jay/git/optimization-course/rai/test/ry./.'\n",
      "\n",
      "**ry-c++-log** /home/jay/git/optimization-course/rai/rai/Core/util.cpp:getIs:1081(-1) could not open file 'tmp.g' for input from '/home/jay/git/optimization-course/rai/test/ry./.'\n",
      "\n",
      "**ry-c++-log** /home/jay/git/optimization-course/rai/rai/Core/util.cpp:getIs:1081(-1) could not open file 'tmp.g' for input from '/home/jay/git/optimization-course/rai/test/ry./.'\n",
      "\n",
      "**ry-c++-log** /home/jay/git/optimization-course/rai/rai/Core/util.cpp:getIs:1081(-1) could not open file 'tmp.g' for input from '/home/jay/git/optimization-course/rai/test/ry./.'\n",
      "\n",
      "**ry-c++-log** /home/jay/git/optimization-course/rai/rai/Core/util.cpp:getIs:1081(-1) could not open file 'tmp.g' for input from '/home/jay/git/optimization-course/rai/test/ry./.'\n",
      "\n",
      "**ry-c++-log** /home/jay/git/optimization-course/rai/rai/Core/util.cpp:getIs:1081(-1) could not open file 'tmp.g' for input from '/home/jay/git/optimization-course/rai/test/ry./.'\n",
      "\n",
      "**ry-c++-log** /home/jay/git/optimization-course/rai/rai/Core/util.cpp:getIs:1081(-1) could not open file 'tmp.g' for input from '/home/jay/git/optimization-course/rai/test/ry./.'\n"
     ]
    },
    {
     "name": "stdout",
     "output_type": "stream",
     "text": [
      "\n",
      "**ry-c++-log** /home/jay/git/optimization-course/rai/rai/Core/util.cpp:getIs:1081(-1) could not open file 'tmp.g' for input from '/home/jay/git/optimization-course/rai/test/ry./.'\n",
      "\n",
      "**ry-c++-log** /home/jay/git/optimization-course/rai/rai/Core/util.cpp:getIs:1081(-1) could not open file 'tmp.g' for input from '/home/jay/git/optimization-course/rai/test/ry./.'\n",
      "\n",
      "**ry-c++-log** /home/jay/git/optimization-course/rai/rai/Core/util.cpp:getIs:1081(-1) could not open file 'tmp.g' for input from '/home/jay/git/optimization-course/rai/test/ry./.'\n",
      "\n",
      "**ry-c++-log** /home/jay/git/optimization-course/rai/rai/Core/util.cpp:getIs:1081(-1) could not open file 'tmp.g' for input from '/home/jay/git/optimization-course/rai/test/ry./.'\n",
      "\n",
      "**ry-c++-log** /home/jay/git/optimization-course/rai/rai/Core/util.cpp:getIs:1081(-1) could not open file 'tmp.g' for input from '/home/jay/git/optimization-course/rai/test/ry./.'\n",
      "\n",
      "**ry-c++-log** /home/jay/git/optimization-course/rai/rai/Core/util.cpp:getIs:1081(-1) could not open file 'tmp.g' for input from '/home/jay/git/optimization-course/rai/test/ry./.'\n",
      "\n",
      "**ry-c++-log** /home/jay/git/optimization-course/rai/rai/Core/util.cpp:getIs:1081(-1) could not open file 'tmp.g' for input from '/home/jay/git/optimization-course/rai/test/ry./.'\n",
      "\n",
      "**ry-c++-log** /home/jay/git/optimization-course/rai/rai/Core/util.cpp:getIs:1081(-1) could not open file 'tmp.g' for input from '/home/jay/git/optimization-course/rai/test/ry./.'\n",
      "\n",
      "**ry-c++-log** /home/jay/git/optimization-course/rai/rai/Core/util.cpp:getIs:1081(-1) could not open file 'tmp.g' for input from '/home/jay/git/optimization-course/rai/test/ry./.'\n",
      "\n",
      "**ry-c++-log** /home/jay/git/optimization-course/rai/rai/Core/util.cpp:getIs:1081(-1) could not open file 'tmp.g' for input from '/home/jay/git/optimization-course/rai/test/ry./.'\n",
      "\n",
      "**ry-c++-log** /home/jay/git/optimization-course/rai/rai/Core/util.cpp:getIs:1081(-1) could not open file 'tmp.g' for input from '/home/jay/git/optimization-course/rai/test/ry./.'\n",
      "\n",
      "**ry-c++-log** /home/jay/git/optimization-course/rai/rai/Core/util.cpp:getIs:1081(-1) could not open file 'tmp.g' for input from '/home/jay/git/optimization-course/rai/test/ry./.'\n",
      "\n",
      "**ry-c++-log** /home/jay/git/optimization-course/rai/rai/Core/util.cpp:getIs:1081(-1) could not open file 'tmp.g' for input from '/home/jay/git/optimization-course/rai/test/ry./.'\n",
      "\n",
      "**ry-c++-log** /home/jay/git/optimization-course/rai/rai/Core/util.cpp:getIs:1081(-1) could not open file 'tmp.g' for input from '/home/jay/git/optimization-course/rai/test/ry./.'\n",
      "\n",
      "**ry-c++-log** /home/jay/git/optimization-course/rai/rai/Core/util.cpp:getIs:1081(-1) could not open file 'tmp.g' for input from '/home/jay/git/optimization-course/rai/test/ry./.'\n",
      "\n",
      "**ry-c++-log** /home/jay/git/optimization-course/rai/rai/Core/util.cpp:getIs:1081(-1) could not open file 'tmp.g' for input from '/home/jay/git/optimization-course/rai/test/ry./.'\n",
      "\n",
      "**ry-c++-log** /home/jay/git/optimization-course/rai/rai/Core/util.cpp:getIs:1081(-1) could not open file 'tmp.g' for input from '/home/jay/git/optimization-course/rai/test/ry./.'\n",
      "\n",
      "**ry-c++-log** /home/jay/git/optimization-course/rai/rai/Core/util.cpp:getIs:1081(-1) could not open file 'tmp.g' for input from '/home/jay/git/optimization-course/rai/test/ry./.'\n",
      "\n",
      "**ry-c++-log** /home/jay/git/optimization-course/rai/rai/Core/util.cpp:getIs:1081(-1) could not open file 'tmp.g' for input from '/home/jay/git/optimization-course/rai/test/ry./.'\n",
      "\n",
      "**ry-c++-log** /home/jay/git/optimization-course/rai/rai/Core/util.cpp:getIs:1081(-1) could not open file 'tmp.g' for input from '/home/jay/git/optimization-course/rai/test/ry./.'\n",
      "\n",
      "**ry-c++-log** /home/jay/git/optimization-course/rai/rai/Core/util.cpp:getIs:1081(-1) could not open file 'tmp.g' for input from '/home/jay/git/optimization-course/rai/test/ry./.'\n",
      "\n",
      "**ry-c++-log** /home/jay/git/optimization-course/rai/rai/Core/util.cpp:getIs:1081(-1) could not open file 'tmp.g' for input from '/home/jay/git/optimization-course/rai/test/ry./.'\n",
      "\n",
      "**ry-c++-log** /home/jay/git/optimization-course/rai/rai/Core/util.cpp:getIs:1081(-1) could not open file 'tmp.g' for input from '/home/jay/git/optimization-course/rai/test/ry./.'\n",
      "\n",
      "**ry-c++-log** /home/jay/git/optimization-course/rai/rai/Core/util.cpp:getIs:1081(-1) could not open file 'tmp.g' for input from '/home/jay/git/optimization-course/rai/test/ry./.'\n",
      "\n",
      "**ry-c++-log** /home/jay/git/optimization-course/rai/rai/Core/util.cpp:getIs:1081(-1) could not open file 'tmp.g' for input from '/home/jay/git/optimization-course/rai/test/ry./.'\n",
      "\n",
      "**ry-c++-log** /home/jay/git/optimization-course/rai/rai/Core/util.cpp:getIs:1081(-1) could not open file 'tmp.g' for input from '/home/jay/git/optimization-course/rai/test/ry./.'\n",
      "\n",
      "**ry-c++-log** /home/jay/git/optimization-course/rai/rai/Core/util.cpp:getIs:1081(-1) could not open file 'tmp.g' for input from '/home/jay/git/optimization-course/rai/test/ry./.'\n",
      "\n",
      "**ry-c++-log** /home/jay/git/optimization-course/rai/rai/Core/util.cpp:getIs:1081(-1) could not open file 'tmp.g' for input from '/home/jay/git/optimization-course/rai/test/ry./.'\n",
      "\n",
      "**ry-c++-log** /home/jay/git/optimization-course/rai/rai/Core/util.cpp:getIs:1081(-1) could not open file 'tmp.g' for input from '/home/jay/git/optimization-course/rai/test/ry./.'\n",
      "\n",
      "**ry-c++-log** /home/jay/git/optimization-course/rai/rai/Core/util.cpp:getIs:1081(-1) could not open file 'tmp.g' for input from '/home/jay/git/optimization-course/rai/test/ry./.'\n",
      "\n",
      "**ry-c++-log** /home/jay/git/optimization-course/rai/rai/Core/util.cpp:getIs:1081(-1) could not open file 'tmp.g' for input from '/home/jay/git/optimization-course/rai/test/ry./.'\n",
      "\n",
      "**ry-c++-log** /home/jay/git/optimization-course/rai/rai/Core/util.cpp:getIs:1081(-1) could not open file 'tmp.g' for input from '/home/jay/git/optimization-course/rai/test/ry./.'\n",
      "\n",
      "**ry-c++-log** /home/jay/git/optimization-course/rai/rai/Core/util.cpp:getIs:1081(-1) could not open file 'tmp.g' for input from '/home/jay/git/optimization-course/rai/test/ry./.'\n",
      "\n",
      "**ry-c++-log** /home/jay/git/optimization-course/rai/rai/Core/util.cpp:getIs:1081(-1) could not open file 'tmp.g' for input from '/home/jay/git/optimization-course/rai/test/ry./.'\n",
      "\n",
      "**ry-c++-log** /home/jay/git/optimization-course/rai/rai/Core/util.cpp:getIs:1081(-1) could not open file 'tmp.g' for input from '/home/jay/git/optimization-course/rai/test/ry./.'\n",
      "\n",
      "**ry-c++-log** /home/jay/git/optimization-course/rai/rai/Core/util.cpp:getIs:1081(-1) could not open file 'tmp.g' for input from '/home/jay/git/optimization-course/rai/test/ry./.'\n",
      "\n",
      "**ry-c++-log** /home/jay/git/optimization-course/rai/rai/Core/util.cpp:getIs:1081(-1) could not open file 'tmp.g' for input from '/home/jay/git/optimization-course/rai/test/ry./.'\n",
      "\n",
      "**ry-c++-log** /home/jay/git/optimization-course/rai/rai/Core/util.cpp:getIs:1081(-1) could not open file 'tmp.g' for input from '/home/jay/git/optimization-course/rai/test/ry./.'\n",
      "\n",
      "**ry-c++-log** /home/jay/git/optimization-course/rai/rai/Core/util.cpp:getIs:1081(-1) could not open file 'tmp.g' for input from '/home/jay/git/optimization-course/rai/test/ry./.'\n",
      "\n",
      "**ry-c++-log** /home/jay/git/optimization-course/rai/rai/Core/util.cpp:getIs:1081(-1) could not open file 'tmp.g' for input from '/home/jay/git/optimization-course/rai/test/ry./.'\n",
      "\n",
      "**ry-c++-log** /home/jay/git/optimization-course/rai/rai/Core/util.cpp:getIs:1081(-1) could not open file 'tmp.g' for input from '/home/jay/git/optimization-course/rai/test/ry./.'\n",
      "\n",
      "**ry-c++-log** /home/jay/git/optimization-course/rai/rai/Core/util.cpp:getIs:1081(-1) could not open file 'tmp.g' for input from '/home/jay/git/optimization-course/rai/test/ry./.'\n",
      "\n",
      "**ry-c++-log** /home/jay/git/optimization-course/rai/rai/Core/util.cpp:getIs:1081(-1) could not open file 'tmp.g' for input from '/home/jay/git/optimization-course/rai/test/ry./.'\n",
      "\n",
      "**ry-c++-log** /home/jay/git/optimization-course/rai/rai/Core/util.cpp:getIs:1081(-1) could not open file 'tmp.g' for input from '/home/jay/git/optimization-course/rai/test/ry./.'\n",
      "\n",
      "**ry-c++-log** /home/jay/git/optimization-course/rai/rai/Core/util.cpp:getIs:1081(-1) could not open file 'tmp.g' for input from '/home/jay/git/optimization-course/rai/test/ry./.'\n",
      "\n",
      "**ry-c++-log** /home/jay/git/optimization-course/rai/rai/Core/util.cpp:getIs:1081(-1) could not open file 'tmp.g' for input from '/home/jay/git/optimization-course/rai/test/ry./.'\n"
     ]
    },
    {
     "name": "stdout",
     "output_type": "stream",
     "text": [
      "\n",
      "**ry-c++-log** /home/jay/git/optimization-course/rai/rai/Core/util.cpp:getIs:1081(-1) could not open file 'tmp.g' for input from '/home/jay/git/optimization-course/rai/test/ry./.'\n",
      "\n",
      "**ry-c++-log** /home/jay/git/optimization-course/rai/rai/Core/util.cpp:getIs:1081(-1) could not open file 'tmp.g' for input from '/home/jay/git/optimization-course/rai/test/ry./.'\n",
      "\n",
      "**ry-c++-log** /home/jay/git/optimization-course/rai/rai/Core/util.cpp:getIs:1081(-1) could not open file 'tmp.g' for input from '/home/jay/git/optimization-course/rai/test/ry./.'\n",
      "\n",
      "**ry-c++-log** /home/jay/git/optimization-course/rai/rai/Core/util.cpp:getIs:1081(-1) could not open file 'tmp.g' for input from '/home/jay/git/optimization-course/rai/test/ry./.'\n",
      "\n",
      "**ry-c++-log** /home/jay/git/optimization-course/rai/rai/Core/util.cpp:getIs:1081(-1) could not open file 'tmp.g' for input from '/home/jay/git/optimization-course/rai/test/ry./.'\n",
      "\n",
      "**ry-c++-log** /home/jay/git/optimization-course/rai/rai/Core/util.cpp:getIs:1081(-1) could not open file 'tmp.g' for input from '/home/jay/git/optimization-course/rai/test/ry./.'\n"
     ]
    }
   ],
   "source": [
    "C.edit('tmp.g')"
   ]
  },
  {
   "cell_type": "code",
   "execution_count": null,
   "metadata": {},
   "outputs": [],
   "source": [
    "C=0"
   ]
  },
  {
   "cell_type": "code",
   "execution_count": null,
   "metadata": {},
   "outputs": [],
   "source": []
  }
 ],
 "metadata": {
  "kernelspec": {
   "display_name": "Python 3",
   "language": "python",
   "name": "python3"
  },
  "language_info": {
   "codemirror_mode": {
    "name": "ipython",
    "version": 3
   },
   "file_extension": ".py",
   "mimetype": "text/x-python",
   "name": "python",
   "nbconvert_exporter": "python",
   "pygments_lexer": "ipython3",
   "version": "3.6.9"
  }
 },
 "nbformat": 4,
 "nbformat_minor": 2
}
