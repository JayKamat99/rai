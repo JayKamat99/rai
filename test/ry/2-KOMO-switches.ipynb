{
 "cells": [
  {
   "cell_type": "code",
   "execution_count": 3,
   "metadata": {},
   "outputs": [],
   "source": [
    "import sys\n",
    "sys.path.append('../../../build')\n",
    "import numpy as np\n",
    "import libry as ry"
   ]
  },
  {
   "cell_type": "code",
   "execution_count": 4,
   "metadata": {},
   "outputs": [],
   "source": [
    "C = ry.Config()\n",
    "\n",
    "C.addFile(\"../KOMO/switches/model2.g\")\n",
    "C.view()"
   ]
  },
  {
   "cell_type": "code",
   "execution_count": 5,
   "metadata": {},
   "outputs": [],
   "source": [
    "komo = ry.KOMO()\n",
    "\n",
    "komo.setModel(C, False)\n",
    "komo.setTiming(2.5, 30, 5., 2)"
   ]
  },
  {
   "cell_type": "code",
   "execution_count": 6,
   "metadata": {},
   "outputs": [
    {
     "data": {
      "text/plain": [
       "<libry.KOMO_Objective at 0x7f7228046a08>"
      ]
     },
     "execution_count": 6,
     "metadata": {},
     "output_type": "execute_result"
    }
   ],
   "source": [
    "komo.add_qControlObjective([], 2)"
   ]
  },
  {
   "cell_type": "code",
   "execution_count": 67,
   "metadata": {},
   "outputs": [],
   "source": [
    "komo.addSquaredQuaternionNorms([], 3.)"
   ]
  },
  {
   "cell_type": "code",
   "execution_count": 68,
   "metadata": {},
   "outputs": [
    {
     "name": "stdout",
     "output_type": "stream",
     "text": [
      "**ry-c++-log** /home/jay/git/optimization-course/rai/rai/Kin/switch.cpp:conv_times2tuples:38(-1) beyond the time!: endTime=2.2 phases=1\n",
      "\n"
     ]
    }
   ],
   "source": [
    "#grasp\n",
    "komo.addSwitch_stable(1., 2., \"table\", \"gripper\", \"box\")\n",
    "komo.addObjective([1.], ry.FS.positionDiff, [\"gripper\", \"box\"], ry.OT.eq, [1e2])#last is weight\n",
    "komo.addObjective([1.], ry.FS.scalarProductXX, [\"gripper\", \"box\"], ry.OT.eq, [1e2], [0.])\n",
    "komo.addObjective([1.], ry.FS.vectorZ, [\"gripper\"], ry.OT.eq, [1e2], [0., 0., 1.])\n",
    "\n",
    "#slow - down - up\n",
    "komo.addObjective([1.], ry.FS.qItself, [], ry.OT.eq, [], [], 1)\n",
    "komo.addObjective([.9,1.1], ry.FS.position, [\"gripper\"], ry.OT.eq, [], [0.,0.,.1], 2)\n",
    "\n",
    "#place\n",
    "komo.addSwitch_stable(2., -1., \"gripper\", \"table\", \"box\")\n",
    "komo.addObjective([2.], ry.FS.positionDiff, [\"box\", \"table\"], ry.OT.eq, [1e2], [0,0,.08])\n",
    "komo.addObjective([2.], ry.FS.vectorZ, [\"gripper\"], ry.OT.eq, [1e2], [0., 0., 1.])\n",
    "\n",
    "#slow - down - up\n",
    "komo.addObjective([2.], ry.FS.qItself, [], ry.OT.eq, [], [], 1)\n",
    "komo.addObjective([1.9,2.2], ry.FS.position, [\"gripper\"], ry.OT.eq, [], [0.,0.,.1], 2)"
   ]
  },
  {
   "cell_type": "code",
   "execution_count": 69,
   "metadata": {},
   "outputs": [
    {
     "data": {
      "text/plain": [
       "0"
      ]
     },
     "execution_count": 69,
     "metadata": {},
     "output_type": "execute_result"
    }
   ],
   "source": [
    "#komo.verbose = 4;\n",
    "komo.optimize();\n",
    "#/  komo.checkGradients();\n",
    "\n",
    "komo.view(False, \"result\")"
   ]
  },
  {
   "cell_type": "code",
   "execution_count": 71,
   "metadata": {},
   "outputs": [
    {
     "data": {
      "text/plain": [
       "0"
      ]
     },
     "execution_count": 71,
     "metadata": {},
     "output_type": "execute_result"
    }
   ],
   "source": [
    "komo.view_play(False, .3)"
   ]
  },
  {
   "cell_type": "markdown",
   "metadata": {},
   "source": [
    "## Same again, but only the keyframes:"
   ]
  },
  {
   "cell_type": "code",
   "execution_count": 10,
   "metadata": {},
   "outputs": [],
   "source": [
    "komo=0"
   ]
  },
  {
   "cell_type": "code",
   "execution_count": 11,
   "metadata": {},
   "outputs": [],
   "source": [
    "komo = ry.KOMO()\n",
    "komo.setModel(C, False)\n",
    "komo.setTiming(3., 1, 5., 1) #DIFFERENT"
   ]
  },
  {
   "cell_type": "code",
   "execution_count": 12,
   "metadata": {},
   "outputs": [],
   "source": [
    "komo.add_qControlObjective([], 1, 1e-1) #DIFFERENT\n",
    "komo.addSquaredQuaternionNorms([], 3.)"
   ]
  },
  {
   "cell_type": "code",
   "execution_count": 13,
   "metadata": {},
   "outputs": [],
   "source": [
    "#grasp\n",
    "komo.addSwitch_stable(1., 2., \"table\", \"gripper\", \"box\")\n",
    "komo.addObjective([1.], ry.FS.positionDiff, [\"gripper\", \"box\"], ry.OT.eq, [1e2])\n",
    "komo.addObjective([1.], ry.FS.scalarProductXX, [\"gripper\", \"box\"], ry.OT.eq, [1e2], [0.])\n",
    "komo.addObjective([1.], ry.FS.vectorZ, [\"gripper\"], ry.OT.eq, [1e2], [0., 0., 1.])\n",
    "\n",
    "#DIFFERENT: UP-DOWN MISSING\n",
    "    \n",
    "#place\n",
    "komo.addSwitch_stable(2., -1., \"gripper\", \"table\", \"box\")\n",
    "komo.addObjective([2.], ry.FS.positionDiff, [\"box\", \"table\"], ry.OT.eq, [1e2], [0,0,.08])\n",
    "komo.addObjective([2.], ry.FS.vectorZ, [\"gripper\"], ry.OT.eq, [1e2], [0., 0., 1.])"
   ]
  },
  {
   "cell_type": "code",
   "execution_count": 14,
   "metadata": {},
   "outputs": [
    {
     "name": "stdout",
     "output_type": "stream",
     "text": [
      "constraints: 8.627910530670535\n",
      "costs: 0.021422584787208286\n"
     ]
    },
    {
     "data": {
      "text/plain": [
       "{'F_qItself/1-#16': {'order': 1.0, 'type': 'sos', 'sos': 0.021422584787208286},\n",
       " 'F_qQuaternionNorms/0-#49': {'order': 0.0,\n",
       "  'type': 'eq',\n",
       "  'eq': 4.063217096117455e-09},\n",
       " 'F_Pose/1-box': {'order': 1.0, 'type': 'eq', 'eq': 3.9216339534917233},\n",
       " 'F_PoseRel/1-box-gripper': {'order': 1.0,\n",
       "  'type': 'eq',\n",
       "  'eq': 2.542656039997815e-06},\n",
       " 'F_PositionDiff/0-gripper-box': {'order': 0.0,\n",
       "  'type': 'eq',\n",
       "  'eq': 4.5260441228212045e-07},\n",
       " 'F_ScalarProduct/0-gripper-box': {'order': 0.0,\n",
       "  'type': 'eq',\n",
       "  'eq': 4.252642127333672e-08},\n",
       " 'F_Vector/0-gripper': {'order': 0.0,\n",
       "  'type': 'eq',\n",
       "  'eq': 1.6101871175318143e-06},\n",
       " 'F_qZeroVel/1-box': {'order': 1.0, 'type': 'eq', 'eq': 6.684237463327776e-07},\n",
       " 'F_PositionDiff/0-box-table': {'order': 0.0,\n",
       "  'type': 'eq',\n",
       "  'eq': 0.7843136942190656},\n",
       " 'sos': 0.021422584787208286,\n",
       " 'ineq': 0.0,\n",
       " 'eq': 8.627910530670535,\n",
       " 'f': 0.0}"
      ]
     },
     "execution_count": 14,
     "metadata": {},
     "output_type": "execute_result"
    }
   ],
   "source": [
    "komo.optimize();\n",
    "komo.view(False, \"result\")\n",
    "print(\"constraints:\", komo.getConstraintViolations())\n",
    "print(\"costs:\", komo.getCosts())\n",
    "komo.getReport()"
   ]
  },
  {
   "cell_type": "code",
   "execution_count": 15,
   "metadata": {},
   "outputs": [
    {
     "data": {
      "text/plain": [
       "0"
      ]
     },
     "execution_count": 15,
     "metadata": {},
     "output_type": "execute_result"
    }
   ],
   "source": [
    "komo.view_play(False, .2)"
   ]
  },
  {
   "cell_type": "code",
   "execution_count": 16,
   "metadata": {},
   "outputs": [],
   "source": [
    "C.view_close()\n",
    "komo=0"
   ]
  },
  {
   "cell_type": "code",
   "execution_count": null,
   "metadata": {},
   "outputs": [],
   "source": []
  }
 ],
 "metadata": {
  "kernelspec": {
   "display_name": "Python 3",
   "language": "python",
   "name": "python3"
  },
  "language_info": {
   "codemirror_mode": {
    "name": "ipython",
    "version": 3
   },
   "file_extension": ".py",
   "mimetype": "text/x-python",
   "name": "python",
   "nbconvert_exporter": "python",
   "pygments_lexer": "ipython3",
   "version": "3.6.9"
  }
 },
 "nbformat": 4,
 "nbformat_minor": 4
}
