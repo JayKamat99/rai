{
 "cells": [
  {
   "cell_type": "code",
   "execution_count": 1,
   "metadata": {},
   "outputs": [
    {
     "name": "stdout",
     "output_type": "stream",
     "text": [
      "**ry-c++-log** /home/jay/git/optimization-course/rai/rai/ry/ry.cpp:init_LogToPythonConsole:34(0) initializing ry log callback\n",
      "\n"
     ]
    }
   ],
   "source": [
    "import sys\n",
    "sys.path.append('../../../build')\n",
    "import numpy as np\n",
    "import libry as ry"
   ]
  },
  {
   "cell_type": "markdown",
   "metadata": {},
   "source": [
    "Setup Generation"
   ]
  },
  {
   "cell_type": "code",
   "execution_count": 2,
   "metadata": {},
   "outputs": [],
   "source": [
    "C = ry.Config()"
   ]
  },
  {
   "cell_type": "code",
   "execution_count": 3,
   "metadata": {},
   "outputs": [],
   "source": [
    "C.clear()\n",
    "C.addFile('/home/jay/git/optimization-course/rai/test/Kin/kin/2D.g')\n",
    "C.view()"
   ]
  },
  {
   "cell_type": "code",
   "execution_count": 4,
   "metadata": {},
   "outputs": [],
   "source": [
    "hand = C.addFrame(name=\"hand\", parent=\"gripper\")\n",
    "hand.setShape(ry.ST.ssBox, size=[.2,.2,.1,.02]),\n",
    "hand.setRelativePosition([0,0,-.1])\n",
    "hand.setColor([1,1,0])"
   ]
  },
  {
   "cell_type": "code",
   "execution_count": 5,
   "metadata": {},
   "outputs": [
    {
     "name": "stdout",
     "output_type": "stream",
     "text": [
      "position: [ 6.33012702e-01 -5.96410162e-01  4.44089210e-17]\n",
      "orientation: [ 0.61237244  0.35355339  0.61237244 -0.35355339]\n"
     ]
    }
   ],
   "source": [
    "f = C.frame(\"hand\")\n",
    "print(\"position:\", f.getPosition())\n",
    "print(\"orientation:\", f.getQuaternion())"
   ]
  },
  {
   "cell_type": "code",
   "execution_count": 27,
   "metadata": {},
   "outputs": [
    {
     "name": "stdout",
     "output_type": "stream",
     "text": [
      "joint names:  ['joint1', 'joint2']\n",
      "joint state:  [4. 1.]\n"
     ]
    }
   ],
   "source": [
    "q = C.getJointState()\n",
    "print('joint names: ', C.getJointNames() )\n",
    "print('joint state: ', q)\n",
    "# initial conditions\n",
    "q[0] = 3\n",
    "q[1] = 1\n",
    "C.setJointState(q)"
   ]
  },
  {
   "cell_type": "markdown",
   "metadata": {},
   "source": [
    "Let's place a goal and and obstacle"
   ]
  },
  {
   "cell_type": "code",
   "execution_count": 28,
   "metadata": {},
   "outputs": [],
   "source": [
    "ball = C.addFrame(name=\"ball\")\n",
    "ball.setShape(ry.ST.sphere, [.1])\n",
    "ball.setPosition([.8,0,0])\n",
    "ball.setColor([0,1,0])"
   ]
  },
  {
   "cell_type": "code",
   "execution_count": 29,
   "metadata": {},
   "outputs": [],
   "source": [
    "Obs = C.addFrame(name=\"Obs\")\n",
    "Obs.setShape(ry.ST.sphere, [.3])\n",
    "Obs.setPosition([0,1,0])\n",
    "Obs.setColor([1,0,0])"
   ]
  },
  {
   "cell_type": "markdown",
   "metadata": {},
   "source": [
    "Run KOMO to grab the green ball"
   ]
  },
  {
   "cell_type": "code",
   "execution_count": 30,
   "metadata": {},
   "outputs": [],
   "source": [
    "X0 = C.getFrameState()\n",
    "obj1 = \"ball\";\n",
    "arm = \"gripper\";\n",
    "\n",
    "komo = C.komo_path(1.,20, 10., True);\n",
    "komo.addObjective([], ry.FS.accumulatedCollisions, [], ry.OT.eq);\n",
    "komo.addObjective([], ry.FS.jointLimits, [], ry.OT.ineq);\n",
    "komo.addObjective([1.], ry.FS.distance, [arm, obj1], ry.OT.eq, [1e2]);\n",
    "komo.addObjective([.9,1.], ry.FS.positionDiff, [\"hand\", obj1], ry.OT.sos, [1e0]);\n",
    "komo.addObjective(times=[1.], feature=ry.FS.qItself, type=ry.OT.eq, order=1);"
   ]
  },
  {
   "cell_type": "code",
   "execution_count": 32,
   "metadata": {},
   "outputs": [
    {
     "data": {
      "text/plain": [
       "{'F_qItself/2-#4': {'order': 2.0, 'type': 'sos', 'sos': 0.1020314176683606},\n",
       " 'F_AccumulatedCollisions/0-#15': {'order': 0.0, 'type': 'eq'},\n",
       " 'F_qLimits2/0-#15': {'order': 0.0, 'type': 'ineq'},\n",
       " 'F_PairCollision/0-gripper-ball': {'order': 0.0,\n",
       "  'type': 'eq',\n",
       "  'eq': 0.0006269932136107603},\n",
       " 'F_PositionDiff/0-hand-ball': {'order': 0.0,\n",
       "  'type': 'sos',\n",
       "  'sos': 0.009911266419262705},\n",
       " 'F_qItself/1-#4': {'order': 1.0, 'type': 'eq', 'eq': 3.9052014995988316e-05},\n",
       " 'sos': 0.11194268408762331,\n",
       " 'ineq': 0.0,\n",
       " 'eq': 0.0006660452286067486,\n",
       " 'f': 0.0}"
      ]
     },
     "execution_count": 32,
     "metadata": {},
     "output_type": "execute_result"
    }
   ],
   "source": [
    "komo.optimize()\n",
    "komo.getReport()"
   ]
  },
  {
   "cell_type": "code",
   "execution_count": 33,
   "metadata": {},
   "outputs": [
    {
     "data": {
      "text/plain": [
       "0"
      ]
     },
     "execution_count": 33,
     "metadata": {},
     "output_type": "execute_result"
    }
   ],
   "source": [
    "komo.view(False,\"mySolution\")"
   ]
  },
  {
   "cell_type": "code",
   "execution_count": 36,
   "metadata": {},
   "outputs": [
    {
     "data": {
      "text/plain": [
       "0"
      ]
     },
     "execution_count": 36,
     "metadata": {},
     "output_type": "execute_result"
    }
   ],
   "source": [
    "komo.view_play(False, .3)"
   ]
  },
  {
   "cell_type": "code",
   "execution_count": null,
   "metadata": {},
   "outputs": [],
   "source": []
  }
 ],
 "metadata": {
  "kernelspec": {
   "display_name": "Python 3",
   "language": "python",
   "name": "python3"
  },
  "language_info": {
   "codemirror_mode": {
    "name": "ipython",
    "version": 3
   },
   "file_extension": ".py",
   "mimetype": "text/x-python",
   "name": "python",
   "nbconvert_exporter": "python",
   "pygments_lexer": "ipython3",
   "version": "3.6.9"
  }
 },
 "nbformat": 4,
 "nbformat_minor": 2
}
